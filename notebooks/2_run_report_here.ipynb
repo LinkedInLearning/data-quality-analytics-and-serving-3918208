{
 "cells": [
  {
   "cell_type": "code",
   "execution_count": null,
   "metadata": {},
   "outputs": [],
   "source": [
    "import pandas as pd\n",
    "\n",
    "import sys\n",
    "sys.path.append(\"..\")\n",
    "\n",
    "from scripts.utils import DuckdbUtils\n",
    "duckdb_utils = DuckdbUtils()\n",
    "\n",
    "from scripts.create_nyc_parking_violations_report import NYC_Parking_Violations_Report\n",
    "\n",
    "# Set options to display all rows and columns\n",
    "pd.set_option('display.max_columns', None)\n",
    "\n",
    "# To avoid line breaks in cells\n",
    "pd.set_option('display.expand_frame_repr', True)\n",
    "pd.set_option('display.max_colwidth', None)\n",
    "\n",
    "NYC_Parking_Violations_Report().create_report()"
   ]
  },
  {
   "cell_type": "markdown",
   "metadata": {},
   "source": [
    "End of report."
   ]
  }
 ],
 "metadata": {
  "kernelspec": {
   "display_name": ".venv",
   "language": "python",
   "name": "python3"
  },
  "language_info": {
   "codemirror_mode": {
    "name": "ipython",
    "version": 3
   },
   "file_extension": ".py",
   "mimetype": "text/x-python",
   "name": "python",
   "nbconvert_exporter": "python",
   "pygments_lexer": "ipython3",
   "version": "3.13.3"
  },
  "orig_nbformat": 4
 },
 "nbformat": 4,
 "nbformat_minor": 2
}
