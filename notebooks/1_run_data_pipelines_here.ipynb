{
 "cells": [
  {
   "cell_type": "markdown",
   "metadata": {},
   "source": [
    "# Import Custom Utility Functions"
   ]
  },
  {
   "cell_type": "code",
   "execution_count": 4,
   "metadata": {},
   "outputs": [],
   "source": [
    "import sys\n",
    "sys.path.append(\"..\")\n",
    "\n",
    "from scripts.utils import DuckdbUtils\n",
    "\n",
    "duckdb_utils = DuckdbUtils()"
   ]
  },
  {
   "cell_type": "markdown",
   "metadata": {},
   "source": [
    "# Load Clean Data Into Database"
   ]
  },
  {
   "cell_type": "code",
   "execution_count": null,
   "metadata": {},
   "outputs": [],
   "source": [
    "# Load clean data into database and run pipelines\n",
    "duckdb_utils.load_csv_file_to_db('../data/clean_data')\n",
    "!cd ../nyc_parking_violations && dbt run && dbt docs generate"
   ]
  },
  {
   "cell_type": "markdown",
   "metadata": {},
   "source": [
    "# Load Dirty Data Into Database"
   ]
  },
  {
   "cell_type": "code",
   "execution_count": null,
   "metadata": {},
   "outputs": [],
   "source": [
    "# Load dirty data into database and run pipelines\n",
    "duckdb_utils.load_csv_file_to_db('../data/dirty_data')\n",
    "!cd ../nyc_parking_violations && dbt run && dbt docs generate"
   ]
  },
  {
   "cell_type": "markdown",
   "metadata": {},
   "source": [
    "# Generate New Database Docs and Start Local Host Website (dbt)\n",
    "*NOTE: This runs an interactive server in the background. You must end the notebook cell by pressing the stop \"square\" on the top left next to the cell when done.*"
   ]
  },
  {
   "cell_type": "code",
   "execution_count": null,
   "metadata": {},
   "outputs": [],
   "source": [
    "!cd ../nyc_parking_violations && dbt docs serve"
   ]
  },
  {
   "cell_type": "markdown",
   "metadata": {},
   "source": [
    "End of functions."
   ]
  }
 ],
 "metadata": {
  "kernelspec": {
   "display_name": ".venv",
   "language": "python",
   "name": "python3"
  },
  "language_info": {
   "codemirror_mode": {
    "name": "ipython",
    "version": 3
   },
   "file_extension": ".py",
   "mimetype": "text/x-python",
   "name": "python",
   "nbconvert_exporter": "python",
   "pygments_lexer": "ipython3",
   "version": "3.13.3"
  },
  "orig_nbformat": 4
 },
 "nbformat": 4,
 "nbformat_minor": 2
}
