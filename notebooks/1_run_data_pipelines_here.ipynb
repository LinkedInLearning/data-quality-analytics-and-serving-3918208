{
 "cells": [
  {
   "cell_type": "markdown",
   "metadata": {},
   "source": [
    "# Import Custom Utility Functions"
   ]
  },
  {
   "cell_type": "code",
   "execution_count": 8,
   "metadata": {},
   "outputs": [],
   "source": [
    "import sys\n",
    "sys.path.append(\"..\")\n",
    "\n",
    "from scripts.utils import DuckdbUtils\n",
    "\n",
    "duckdb_utils = DuckdbUtils()"
   ]
  },
  {
   "cell_type": "markdown",
   "metadata": {},
   "source": [
    "# Load Clean Data Into Database"
   ]
  },
  {
   "cell_type": "code",
   "execution_count": 2,
   "metadata": {},
   "outputs": [
    {
     "name": "stdout",
     "output_type": "stream",
     "text": [
      "\u001b[0m05:45:05  Running with dbt=1.9.4\n",
      "\u001b[0m05:45:05  Registered adapter: duckdb=1.9.3\n",
      "\u001b[0m05:45:05  Found 19 models, 1 test, 428 macros\n",
      "\u001b[0m05:45:05  \n",
      "\u001b[0m05:45:05  Concurrency: 1 threads (target='dev')\n",
      "\u001b[0m05:45:05  \n",
      "\u001b[0m05:45:05  1 of 19 START sql view model main.bronze_parking_violation_codes ............... [RUN]\n",
      "\u001b[0m05:45:05  1 of 19 OK created sql view model main.bronze_parking_violation_codes .......... [\u001b[32mOK\u001b[0m in 0.04s]\n",
      "\u001b[0m05:45:05  2 of 19 START sql view model main.bronze_parking_violations .................... [RUN]\n",
      "\u001b[0m05:45:05  2 of 19 OK created sql view model main.bronze_parking_violations ............... [\u001b[32mOK\u001b[0m in 0.01s]\n",
      "\u001b[0m05:45:05  3 of 19 START sql table model main.silver_parking_violation_codes .............. [RUN]\n",
      "\u001b[0m05:45:05  3 of 19 OK created sql table model main.silver_parking_violation_codes ......... [\u001b[32mOK\u001b[0m in 0.03s]\n",
      "\u001b[0m05:45:05  4 of 19 START sql table model main.silver_parking_violations ................... [RUN]\n",
      "\u001b[0m05:45:05  4 of 19 OK created sql table model main.silver_parking_violations .............. [\u001b[32mOK\u001b[0m in 0.18s]\n",
      "\u001b[0m05:45:05  5 of 19 START sql table model main.silver_violation_tickets .................... [RUN]\n",
      "\u001b[0m05:45:05  5 of 19 OK created sql table model main.silver_violation_tickets ............... [\u001b[32mOK\u001b[0m in 0.11s]\n",
      "\u001b[0m05:45:05  6 of 19 START sql table model main.silver_violation_vehicles ................... [RUN]\n",
      "\u001b[0m05:45:05  6 of 19 OK created sql table model main.silver_violation_vehicles .............. [\u001b[32mOK\u001b[0m in 0.14s]\n",
      "\u001b[0m05:45:05  7 of 19 START sql table model main.silver_valid_violation_tickets .............. [RUN]\n",
      "\u001b[0m05:45:06  7 of 19 OK created sql table model main.silver_valid_violation_tickets ......... [\u001b[32mOK\u001b[0m in 0.05s]\n",
      "\u001b[0m05:45:06  8 of 19 START sql table model main.gold_2023_agency_fee_metrics ................ [RUN]\n",
      "\u001b[0m05:45:06  8 of 19 OK created sql table model main.gold_2023_agency_fee_metrics ........... [\u001b[32mOK\u001b[0m in 0.02s]\n",
      "\u001b[0m05:45:06  9 of 19 START sql table model main.gold_2023_county_violations_day_of_week_heatmap  [RUN]\n",
      "\u001b[0m05:45:06  9 of 19 OK created sql table model main.gold_2023_county_violations_day_of_week_heatmap  [\u001b[32mOK\u001b[0m in 0.02s]\n",
      "\u001b[0m05:45:06  10 of 19 START sql table model main.gold_2023_ticket_counts_year_month ......... [RUN]\n",
      "\u001b[0m05:45:06  10 of 19 OK created sql table model main.gold_2023_ticket_counts_year_month .... [\u001b[32mOK\u001b[0m in 0.02s]\n",
      "\u001b[0m05:45:06  11 of 19 START sql table model main.gold_2023_ticket_counts_year_week .......... [RUN]\n",
      "\u001b[0m05:45:06  11 of 19 OK created sql table model main.gold_2023_ticket_counts_year_week ..... [\u001b[32mOK\u001b[0m in 0.02s]\n",
      "\u001b[0m05:45:06  12 of 19 START sql table model main.gold_2023_violations_day_of_week_heatmap ... [RUN]\n",
      "\u001b[0m05:45:06  12 of 19 OK created sql table model main.gold_2023_violations_day_of_week_heatmap  [\u001b[32mOK\u001b[0m in 0.05s]\n",
      "\u001b[0m05:45:06  13 of 19 START sql table model main.gold_2023_weekly_violations_day_of_week_heatmap  [RUN]\n",
      "\u001b[0m05:45:06  13 of 19 OK created sql table model main.gold_2023_weekly_violations_day_of_week_heatmap  [\u001b[32mOK\u001b[0m in 0.03s]\n",
      "\u001b[0m05:45:06  14 of 19 START sql table model main.gold_latest_tickets_90_days ................ [RUN]\n",
      "\u001b[0m05:45:06  14 of 19 OK created sql table model main.gold_latest_tickets_90_days ........... [\u001b[32mOK\u001b[0m in 0.03s]\n",
      "\u001b[0m05:45:06  15 of 19 START sql table model main.gold_precinct_ticket_fee_sum_90_days ....... [RUN]\n",
      "\u001b[0m05:45:06  15 of 19 OK created sql table model main.gold_precinct_ticket_fee_sum_90_days .. [\u001b[32mOK\u001b[0m in 0.02s]\n",
      "\u001b[0m05:45:06  16 of 19 START sql table model main.gold_tickets_by_agency_90_days ............. [RUN]\n",
      "\u001b[0m05:45:06  16 of 19 OK created sql table model main.gold_tickets_by_agency_90_days ........ [\u001b[32mOK\u001b[0m in 0.02s]\n",
      "\u001b[0m05:45:06  17 of 19 START sql table model main.gold_tickets_by_county_90_days ............. [RUN]\n",
      "\u001b[0m05:45:06  17 of 19 OK created sql table model main.gold_tickets_by_county_90_days ........ [\u001b[32mOK\u001b[0m in 0.02s]\n",
      "\u001b[0m05:45:06  18 of 19 START sql table model main.gold_tickets_by_vehicle_90_days ............ [RUN]\n",
      "\u001b[0m05:45:06  18 of 19 OK created sql table model main.gold_tickets_by_vehicle_90_days ....... [\u001b[32mOK\u001b[0m in 0.03s]\n",
      "\u001b[0m05:45:06  19 of 19 START sql table model main.gold_tickets_by_violation_90_days .......... [RUN]\n",
      "\u001b[0m05:45:06  19 of 19 OK created sql table model main.gold_tickets_by_violation_90_days ..... [\u001b[32mOK\u001b[0m in 0.02s]\n",
      "\u001b[0m05:45:06  \n",
      "\u001b[0m05:45:06  Finished running 17 table models, 2 view models in 0 hours 0 minutes and 0.97 seconds (0.97s).\n",
      "\u001b[0m05:45:06  \n",
      "\u001b[0m05:45:06  \u001b[32mCompleted successfully\u001b[0m\n",
      "\u001b[0m05:45:06  \n",
      "\u001b[0m05:45:06  Done. PASS=19 WARN=0 ERROR=0 SKIP=0 TOTAL=19\n",
      "\u001b[0m05:45:07  Running with dbt=1.9.4\n",
      "\u001b[0m05:45:08  Registered adapter: duckdb=1.9.3\n",
      "\u001b[0m05:45:08  Found 19 models, 1 test, 428 macros\n",
      "\u001b[0m05:45:08  \n",
      "\u001b[0m05:45:08  Concurrency: 1 threads (target='dev')\n",
      "\u001b[0m05:45:08  \n",
      "\u001b[0m05:45:08  Building catalog\n",
      "\u001b[0m05:45:08  Catalog written to /Users/onthemarkdata/repos/github/data-quality-analytics-and-serving-3918208/nyc_parking_violations/target/catalog.json\n"
     ]
    }
   ],
   "source": [
    "# Load clean data into database and run pipelines\n",
    "duckdb_utils.load_csv_file_to_db('../data/clean_data')\n",
    "!cd ../nyc_parking_violations && dbt run && dbt docs generate"
   ]
  },
  {
   "cell_type": "markdown",
   "metadata": {},
   "source": [
    "# Load Dirty Data Into Database"
   ]
  },
  {
   "cell_type": "code",
   "execution_count": 11,
   "metadata": {},
   "outputs": [
    {
     "name": "stdout",
     "output_type": "stream",
     "text": [
      "\u001b[0m05:56:35  Running with dbt=1.9.4\n",
      "\u001b[0m05:56:35  Registered adapter: duckdb=1.9.3\n",
      "\u001b[0m05:56:35  Found 19 models, 1 test, 428 macros\n",
      "\u001b[0m05:56:35  \n",
      "\u001b[0m05:56:35  Concurrency: 1 threads (target='dev')\n",
      "\u001b[0m05:56:35  \n",
      "\u001b[0m05:56:35  1 of 19 START sql view model main.bronze_parking_violation_codes ............... [RUN]\n",
      "\u001b[0m05:56:35  1 of 19 OK created sql view model main.bronze_parking_violation_codes .......... [\u001b[32mOK\u001b[0m in 0.04s]\n",
      "\u001b[0m05:56:35  2 of 19 START sql view model main.bronze_parking_violations .................... [RUN]\n",
      "\u001b[0m05:56:35  2 of 19 OK created sql view model main.bronze_parking_violations ............... [\u001b[32mOK\u001b[0m in 0.01s]\n",
      "\u001b[0m05:56:35  3 of 19 START sql table model main.silver_parking_violation_codes .............. [RUN]\n",
      "\u001b[0m05:56:35  3 of 19 OK created sql table model main.silver_parking_violation_codes ......... [\u001b[32mOK\u001b[0m in 0.03s]\n",
      "\u001b[0m05:56:35  4 of 19 START sql table model main.silver_parking_violations ................... [RUN]\n",
      "\u001b[0m05:56:35  4 of 19 OK created sql table model main.silver_parking_violations .............. [\u001b[32mOK\u001b[0m in 0.19s]\n",
      "\u001b[0m05:56:35  5 of 19 START sql table model main.silver_violation_tickets .................... [RUN]\n",
      "\u001b[0m05:56:36  5 of 19 OK created sql table model main.silver_violation_tickets ............... [\u001b[32mOK\u001b[0m in 0.07s]\n",
      "\u001b[0m05:56:36  6 of 19 START sql table model main.silver_violation_vehicles ................... [RUN]\n",
      "\u001b[0m05:56:36  6 of 19 OK created sql table model main.silver_violation_vehicles .............. [\u001b[32mOK\u001b[0m in 0.15s]\n",
      "\u001b[0m05:56:36  7 of 19 START sql table model main.silver_valid_violation_tickets .............. [RUN]\n",
      "\u001b[0m05:56:36  7 of 19 OK created sql table model main.silver_valid_violation_tickets ......... [\u001b[32mOK\u001b[0m in 0.03s]\n",
      "\u001b[0m05:56:36  8 of 19 START sql table model main.gold_2023_agency_fee_metrics ................ [RUN]\n",
      "\u001b[0m05:56:36  8 of 19 OK created sql table model main.gold_2023_agency_fee_metrics ........... [\u001b[32mOK\u001b[0m in 0.02s]\n",
      "\u001b[0m05:56:36  9 of 19 START sql table model main.gold_2023_county_violations_day_of_week_heatmap  [RUN]\n",
      "\u001b[0m05:56:36  9 of 19 OK created sql table model main.gold_2023_county_violations_day_of_week_heatmap  [\u001b[32mOK\u001b[0m in 0.02s]\n",
      "\u001b[0m05:56:36  10 of 19 START sql table model main.gold_2023_ticket_counts_year_month ......... [RUN]\n",
      "\u001b[0m05:56:36  10 of 19 OK created sql table model main.gold_2023_ticket_counts_year_month .... [\u001b[32mOK\u001b[0m in 0.01s]\n",
      "\u001b[0m05:56:36  11 of 19 START sql table model main.gold_2023_ticket_counts_year_week .......... [RUN]\n",
      "\u001b[0m05:56:36  11 of 19 OK created sql table model main.gold_2023_ticket_counts_year_week ..... [\u001b[32mOK\u001b[0m in 0.02s]\n",
      "\u001b[0m05:56:36  12 of 19 START sql table model main.gold_2023_violations_day_of_week_heatmap ... [RUN]\n",
      "\u001b[0m05:56:36  12 of 19 OK created sql table model main.gold_2023_violations_day_of_week_heatmap  [\u001b[32mOK\u001b[0m in 0.02s]\n",
      "\u001b[0m05:56:36  13 of 19 START sql table model main.gold_2023_weekly_violations_day_of_week_heatmap  [RUN]\n",
      "\u001b[0m05:56:36  13 of 19 OK created sql table model main.gold_2023_weekly_violations_day_of_week_heatmap  [\u001b[32mOK\u001b[0m in 0.02s]\n",
      "\u001b[0m05:56:36  14 of 19 START sql table model main.gold_latest_tickets_90_days ................ [RUN]\n",
      "\u001b[0m05:56:36  14 of 19 OK created sql table model main.gold_latest_tickets_90_days ........... [\u001b[32mOK\u001b[0m in 0.02s]\n",
      "\u001b[0m05:56:36  15 of 19 START sql table model main.gold_precinct_ticket_fee_sum_90_days ....... [RUN]\n",
      "\u001b[0m05:56:36  15 of 19 OK created sql table model main.gold_precinct_ticket_fee_sum_90_days .. [\u001b[32mOK\u001b[0m in 0.02s]\n",
      "\u001b[0m05:56:36  16 of 19 START sql table model main.gold_tickets_by_agency_90_days ............. [RUN]\n",
      "\u001b[0m05:56:36  16 of 19 OK created sql table model main.gold_tickets_by_agency_90_days ........ [\u001b[32mOK\u001b[0m in 0.02s]\n",
      "\u001b[0m05:56:36  17 of 19 START sql table model main.gold_tickets_by_county_90_days ............. [RUN]\n",
      "\u001b[0m05:56:36  17 of 19 OK created sql table model main.gold_tickets_by_county_90_days ........ [\u001b[32mOK\u001b[0m in 0.02s]\n",
      "\u001b[0m05:56:36  18 of 19 START sql table model main.gold_tickets_by_vehicle_90_days ............ [RUN]\n",
      "\u001b[0m05:56:36  18 of 19 OK created sql table model main.gold_tickets_by_vehicle_90_days ....... [\u001b[32mOK\u001b[0m in 0.02s]\n",
      "\u001b[0m05:56:36  19 of 19 START sql table model main.gold_tickets_by_violation_90_days .......... [RUN]\n",
      "\u001b[0m05:56:36  19 of 19 OK created sql table model main.gold_tickets_by_violation_90_days ..... [\u001b[32mOK\u001b[0m in 0.02s]\n",
      "\u001b[0m05:56:36  \n",
      "\u001b[0m05:56:36  Finished running 17 table models, 2 view models in 0 hours 0 minutes and 0.89 seconds (0.89s).\n",
      "\u001b[0m05:56:36  \n",
      "\u001b[0m05:56:36  \u001b[32mCompleted successfully\u001b[0m\n",
      "\u001b[0m05:56:36  \n",
      "\u001b[0m05:56:36  Done. PASS=19 WARN=0 ERROR=0 SKIP=0 TOTAL=19\n",
      "\u001b[0m05:56:37  Running with dbt=1.9.4\n",
      "\u001b[0m05:56:38  Registered adapter: duckdb=1.9.3\n",
      "\u001b[0m05:56:38  Found 19 models, 1 test, 428 macros\n",
      "\u001b[0m05:56:38  \n",
      "\u001b[0m05:56:38  Concurrency: 1 threads (target='dev')\n",
      "\u001b[0m05:56:38  \n",
      "\u001b[0m05:56:38  Building catalog\n",
      "\u001b[0m05:56:38  Catalog written to /Users/onthemarkdata/repos/github/data-quality-analytics-and-serving-3918208/nyc_parking_violations/target/catalog.json\n"
     ]
    }
   ],
   "source": [
    "# Load dirty data into database and run pipelines\n",
    "duckdb_utils.load_csv_file_to_db('../data/dirty_data')\n",
    "!cd ../nyc_parking_violations && dbt run && dbt docs generate"
   ]
  },
  {
   "cell_type": "markdown",
   "metadata": {},
   "source": [
    "# Generate New Database Docs and Start Local Host Website (dbt)\n",
    "*NOTE: This runs an interactive server in the background. You must end the notebook cell by pressing the stop \"square\" on the top left next to the cell when done.*"
   ]
  },
  {
   "cell_type": "code",
   "execution_count": 12,
   "metadata": {},
   "outputs": [
    {
     "name": "stdout",
     "output_type": "stream",
     "text": [
      "\u001b[0m05:56:45  Running with dbt=1.9.4\n",
      "Serving docs at 8080\n",
      "To access from your browser, navigate to: http://localhost:8080\n",
      "\n",
      "\n",
      "\n",
      "Press Ctrl+C to exit.\n",
      "127.0.0.1 - - [24/May/2025 22:56:45] \"GET / HTTP/1.1\" 200 -\n",
      "127.0.0.1 - - [24/May/2025 22:56:45] \"GET /manifest.json?cb=1748152605753 HTTP/1.1\" 200 -\n",
      "127.0.0.1 - - [24/May/2025 22:56:45] \"GET /catalog.json?cb=1748152605753 HTTP/1.1\" 200 -\n",
      "127.0.0.1 - - [24/May/2025 22:56:45] code 404, message File not found\n",
      "127.0.0.1 - - [24/May/2025 22:56:45] \"GET /$%7Brequire('./assets/favicons/favicon.ico')%7D HTTP/1.1\" 404 -\n",
      "^C\n"
     ]
    }
   ],
   "source": [
    "!cd ../nyc_parking_violations && dbt docs serve"
   ]
  },
  {
   "cell_type": "markdown",
   "metadata": {},
   "source": [
    "# Run Data Quality Checks With dbt Tests"
   ]
  },
  {
   "cell_type": "code",
   "execution_count": 13,
   "metadata": {},
   "outputs": [
    {
     "name": "stdout",
     "output_type": "stream",
     "text": [
      "\u001b[0m06:39:29  Running with dbt=1.9.4\n",
      "\u001b[0m06:39:29  Registered adapter: duckdb=1.9.3\n",
      "\u001b[0m06:39:29  Found 19 models, 4 data tests, 428 macros\n",
      "\u001b[0m06:39:29  \n",
      "\u001b[0m06:39:29  Concurrency: 1 threads (target='dev')\n",
      "\u001b[0m06:39:29  \n",
      "\u001b[0m06:39:29  1 of 1 START test test_placeholder ............................................. [RUN]\n",
      "\u001b[0m06:39:29  1 of 1 PASS test_placeholder ................................................... [\u001b[32mPASS\u001b[0m in 0.07s]\n",
      "\u001b[0m06:39:29  \n",
      "\u001b[0m06:39:29  Finished running 1 test in 0 hours 0 minutes and 0.15 seconds (0.15s).\n",
      "\u001b[0m06:39:29  \n",
      "\u001b[0m06:39:29  \u001b[32mCompleted successfully\u001b[0m\n",
      "\u001b[0m06:39:29  \n",
      "\u001b[0m06:39:29  Done. PASS=1 WARN=0 ERROR=0 SKIP=0 TOTAL=1\n"
     ]
    }
   ],
   "source": [
    "!cd ../nyc_parking_violations && dbt test"
   ]
  },
  {
   "cell_type": "markdown",
   "metadata": {},
   "source": [
    "End of functions."
   ]
  }
 ],
 "metadata": {
  "kernelspec": {
   "display_name": ".venv",
   "language": "python",
   "name": "python3"
  },
  "language_info": {
   "codemirror_mode": {
    "name": "ipython",
    "version": 3
   },
   "file_extension": ".py",
   "mimetype": "text/x-python",
   "name": "python",
   "nbconvert_exporter": "python",
   "pygments_lexer": "ipython3",
   "version": "3.13.3"
  },
  "orig_nbformat": 4
 },
 "nbformat": 4,
 "nbformat_minor": 2
}
