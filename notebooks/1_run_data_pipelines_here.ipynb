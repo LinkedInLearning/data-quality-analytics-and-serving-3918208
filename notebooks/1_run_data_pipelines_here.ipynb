{
 "cells": [
  {
   "cell_type": "markdown",
   "metadata": {},
   "source": [
    "# Import Custom Utility Functions"
   ]
  },
  {
   "cell_type": "code",
   "execution_count": 23,
   "metadata": {},
   "outputs": [],
   "source": [
    "import sys\n",
    "sys.path.append(\"..\")\n",
    "\n",
    "from scripts.utils import DuckdbUtils\n",
    "\n",
    "duckdb_utils = DuckdbUtils()"
   ]
  },
  {
   "cell_type": "markdown",
   "metadata": {},
   "source": [
    "# Load Clean Data Into Database"
   ]
  },
  {
   "cell_type": "code",
   "execution_count": 95,
   "metadata": {},
   "outputs": [
    {
     "name": "stdout",
     "output_type": "stream",
     "text": [
      "\u001b[0m03:50:04  Running with dbt=1.9.4\n",
      "\u001b[0m03:50:05  Registered adapter: duckdb=1.9.3\n",
      "\u001b[0m03:50:05  Found 19 models, 4 data tests, 428 macros\n",
      "\u001b[0m03:50:05  \n",
      "\u001b[0m03:50:05  Concurrency: 1 threads (target='dev')\n",
      "\u001b[0m03:50:05  \n",
      "\u001b[0m03:50:05  1 of 19 START sql view model main.bronze_parking_violation_codes ............... [RUN]\n",
      "\u001b[0m03:50:05  1 of 19 OK created sql view model main.bronze_parking_violation_codes .......... [\u001b[32mOK\u001b[0m in 0.04s]\n",
      "\u001b[0m03:50:05  2 of 19 START sql view model main.bronze_parking_violations .................... [RUN]\n",
      "\u001b[0m03:50:05  2 of 19 OK created sql view model main.bronze_parking_violations ............... [\u001b[32mOK\u001b[0m in 0.01s]\n",
      "\u001b[0m03:50:05  3 of 19 START sql table model main.silver_parking_violation_codes .............. [RUN]\n",
      "\u001b[0m03:50:05  3 of 19 OK created sql table model main.silver_parking_violation_codes ......... [\u001b[32mOK\u001b[0m in 0.03s]\n",
      "\u001b[0m03:50:05  4 of 19 START sql table model main.silver_parking_violations ................... [RUN]\n",
      "\u001b[0m03:50:05  4 of 19 OK created sql table model main.silver_parking_violations .............. [\u001b[32mOK\u001b[0m in 0.19s]\n",
      "\u001b[0m03:50:05  5 of 19 START sql table model main.silver_violation_tickets .................... [RUN]\n",
      "\u001b[0m03:50:05  5 of 19 OK created sql table model main.silver_violation_tickets ............... [\u001b[32mOK\u001b[0m in 0.11s]\n",
      "\u001b[0m03:50:05  6 of 19 START sql table model main.silver_violation_vehicles ................... [RUN]\n",
      "\u001b[0m03:50:05  6 of 19 OK created sql table model main.silver_violation_vehicles .............. [\u001b[32mOK\u001b[0m in 0.15s]\n",
      "\u001b[0m03:50:05  7 of 19 START sql table model main.silver_valid_violation_tickets .............. [RUN]\n",
      "\u001b[0m03:50:05  7 of 19 OK created sql table model main.silver_valid_violation_tickets ......... [\u001b[32mOK\u001b[0m in 0.05s]\n",
      "\u001b[0m03:50:05  8 of 19 START sql table model main.gold_2023_agency_fee_metrics ................ [RUN]\n",
      "\u001b[0m03:50:05  8 of 19 OK created sql table model main.gold_2023_agency_fee_metrics ........... [\u001b[32mOK\u001b[0m in 0.02s]\n",
      "\u001b[0m03:50:05  9 of 19 START sql table model main.gold_2023_county_violations_day_of_week_heatmap  [RUN]\n",
      "\u001b[0m03:50:05  9 of 19 OK created sql table model main.gold_2023_county_violations_day_of_week_heatmap  [\u001b[32mOK\u001b[0m in 0.02s]\n",
      "\u001b[0m03:50:05  10 of 19 START sql table model main.gold_2023_ticket_counts_year_month ......... [RUN]\n",
      "\u001b[0m03:50:05  10 of 19 OK created sql table model main.gold_2023_ticket_counts_year_month .... [\u001b[32mOK\u001b[0m in 0.02s]\n",
      "\u001b[0m03:50:05  11 of 19 START sql table model main.gold_2023_ticket_counts_year_week .......... [RUN]\n",
      "\u001b[0m03:50:05  11 of 19 OK created sql table model main.gold_2023_ticket_counts_year_week ..... [\u001b[32mOK\u001b[0m in 0.02s]\n",
      "\u001b[0m03:50:05  12 of 19 START sql table model main.gold_2023_violations_day_of_week_heatmap ... [RUN]\n",
      "\u001b[0m03:50:05  12 of 19 OK created sql table model main.gold_2023_violations_day_of_week_heatmap  [\u001b[32mOK\u001b[0m in 0.03s]\n",
      "\u001b[0m03:50:05  13 of 19 START sql table model main.gold_2023_weekly_violations_day_of_week_heatmap  [RUN]\n",
      "\u001b[0m03:50:06  13 of 19 OK created sql table model main.gold_2023_weekly_violations_day_of_week_heatmap  [\u001b[32mOK\u001b[0m in 0.03s]\n",
      "\u001b[0m03:50:06  14 of 19 START sql table model main.gold_latest_tickets_90_days ................ [RUN]\n",
      "\u001b[0m03:50:06  14 of 19 OK created sql table model main.gold_latest_tickets_90_days ........... [\u001b[32mOK\u001b[0m in 0.09s]\n",
      "\u001b[0m03:50:06  15 of 19 START sql table model main.gold_precinct_ticket_fee_sum_90_days ....... [RUN]\n",
      "\u001b[0m03:50:06  15 of 19 OK created sql table model main.gold_precinct_ticket_fee_sum_90_days .. [\u001b[32mOK\u001b[0m in 0.02s]\n",
      "\u001b[0m03:50:06  16 of 19 START sql table model main.gold_tickets_by_agency_90_days ............. [RUN]\n",
      "\u001b[0m03:50:06  16 of 19 OK created sql table model main.gold_tickets_by_agency_90_days ........ [\u001b[32mOK\u001b[0m in 0.02s]\n",
      "\u001b[0m03:50:06  17 of 19 START sql table model main.gold_tickets_by_county_90_days ............. [RUN]\n",
      "\u001b[0m03:50:06  17 of 19 OK created sql table model main.gold_tickets_by_county_90_days ........ [\u001b[32mOK\u001b[0m in 0.03s]\n",
      "\u001b[0m03:50:06  18 of 19 START sql table model main.gold_tickets_by_vehicle_90_days ............ [RUN]\n",
      "\u001b[0m03:50:06  18 of 19 OK created sql table model main.gold_tickets_by_vehicle_90_days ....... [\u001b[32mOK\u001b[0m in 0.03s]\n",
      "\u001b[0m03:50:06  19 of 19 START sql table model main.gold_tickets_by_violation_90_days .......... [RUN]\n",
      "\u001b[0m03:50:06  19 of 19 OK created sql table model main.gold_tickets_by_violation_90_days ..... [\u001b[32mOK\u001b[0m in 0.02s]\n",
      "\u001b[0m03:50:06  \n",
      "\u001b[0m03:50:06  Finished running 17 table models, 2 view models in 0 hours 0 minutes and 1.05 seconds (1.05s).\n",
      "\u001b[0m03:50:06  \n",
      "\u001b[0m03:50:06  \u001b[32mCompleted successfully\u001b[0m\n",
      "\u001b[0m03:50:06  \n",
      "\u001b[0m03:50:06  Done. PASS=19 WARN=0 ERROR=0 SKIP=0 TOTAL=19\n",
      "\u001b[0m03:50:07  Running with dbt=1.9.4\n",
      "\u001b[0m03:50:07  Registered adapter: duckdb=1.9.3\n",
      "\u001b[0m03:50:08  Found 19 models, 4 data tests, 428 macros\n",
      "\u001b[0m03:50:08  \n",
      "\u001b[0m03:50:08  Concurrency: 1 threads (target='dev')\n",
      "\u001b[0m03:50:08  \n",
      "\u001b[0m03:50:08  Building catalog\n",
      "\u001b[0m03:50:08  Catalog written to /Users/onthemarkdata/repos/github/linkedin-learning-dq-downstream/nyc_parking_violations/target/catalog.json\n"
     ]
    }
   ],
   "source": [
    "# Load clean data into database and run pipelines\n",
    "duckdb_utils.load_csv_file_to_db('../data/clean_data')\n",
    "!cd ../nyc_parking_violations && dbt run && dbt docs generate"
   ]
  },
  {
   "cell_type": "markdown",
   "metadata": {},
   "source": [
    "# Load Dirty Data Into Database"
   ]
  },
  {
   "cell_type": "code",
   "execution_count": 104,
   "metadata": {},
   "outputs": [
    {
     "name": "stdout",
     "output_type": "stream",
     "text": [
      "\u001b[0m03:56:34  Running with dbt=1.9.4\n",
      "\u001b[0m03:56:34  Registered adapter: duckdb=1.9.3\n",
      "\u001b[0m03:56:34  Found 19 models, 4 data tests, 428 macros\n",
      "\u001b[0m03:56:34  \n",
      "\u001b[0m03:56:34  Concurrency: 1 threads (target='dev')\n",
      "\u001b[0m03:56:34  \n",
      "\u001b[0m03:56:35  1 of 19 START sql view model main.bronze_parking_violation_codes ............... [RUN]\n",
      "\u001b[0m03:56:35  1 of 19 OK created sql view model main.bronze_parking_violation_codes .......... [\u001b[32mOK\u001b[0m in 0.04s]\n",
      "\u001b[0m03:56:35  2 of 19 START sql view model main.bronze_parking_violations .................... [RUN]\n",
      "\u001b[0m03:56:35  2 of 19 OK created sql view model main.bronze_parking_violations ............... [\u001b[32mOK\u001b[0m in 0.01s]\n",
      "\u001b[0m03:56:35  3 of 19 START sql table model main.silver_parking_violation_codes .............. [RUN]\n",
      "\u001b[0m03:56:35  3 of 19 OK created sql table model main.silver_parking_violation_codes ......... [\u001b[32mOK\u001b[0m in 0.03s]\n",
      "\u001b[0m03:56:35  4 of 19 START sql table model main.silver_parking_violations ................... [RUN]\n",
      "\u001b[0m03:56:35  4 of 19 OK created sql table model main.silver_parking_violations .............. [\u001b[32mOK\u001b[0m in 0.20s]\n",
      "\u001b[0m03:56:35  5 of 19 START sql table model main.silver_violation_tickets .................... [RUN]\n",
      "\u001b[0m03:56:35  5 of 19 OK created sql table model main.silver_violation_tickets ............... [\u001b[32mOK\u001b[0m in 0.07s]\n",
      "\u001b[0m03:56:35  6 of 19 START sql table model main.silver_violation_vehicles ................... [RUN]\n",
      "\u001b[0m03:56:35  6 of 19 OK created sql table model main.silver_violation_vehicles .............. [\u001b[32mOK\u001b[0m in 0.17s]\n",
      "\u001b[0m03:56:35  7 of 19 START sql table model main.silver_valid_violation_tickets .............. [RUN]\n",
      "\u001b[0m03:56:35  7 of 19 OK created sql table model main.silver_valid_violation_tickets ......... [\u001b[32mOK\u001b[0m in 0.05s]\n",
      "\u001b[0m03:56:35  8 of 19 START sql table model main.gold_2023_agency_fee_metrics ................ [RUN]\n",
      "\u001b[0m03:56:35  8 of 19 OK created sql table model main.gold_2023_agency_fee_metrics ........... [\u001b[32mOK\u001b[0m in 0.02s]\n",
      "\u001b[0m03:56:35  9 of 19 START sql table model main.gold_2023_county_violations_day_of_week_heatmap  [RUN]\n",
      "\u001b[0m03:56:35  9 of 19 OK created sql table model main.gold_2023_county_violations_day_of_week_heatmap  [\u001b[32mOK\u001b[0m in 0.02s]\n",
      "\u001b[0m03:56:35  10 of 19 START sql table model main.gold_2023_ticket_counts_year_month ......... [RUN]\n",
      "\u001b[0m03:56:35  10 of 19 OK created sql table model main.gold_2023_ticket_counts_year_month .... [\u001b[32mOK\u001b[0m in 0.02s]\n",
      "\u001b[0m03:56:35  11 of 19 START sql table model main.gold_2023_ticket_counts_year_week .......... [RUN]\n",
      "\u001b[0m03:56:35  11 of 19 OK created sql table model main.gold_2023_ticket_counts_year_week ..... [\u001b[32mOK\u001b[0m in 0.02s]\n",
      "\u001b[0m03:56:35  12 of 19 START sql table model main.gold_2023_violations_day_of_week_heatmap ... [RUN]\n",
      "\u001b[0m03:56:35  12 of 19 OK created sql table model main.gold_2023_violations_day_of_week_heatmap  [\u001b[32mOK\u001b[0m in 0.02s]\n",
      "\u001b[0m03:56:35  13 of 19 START sql table model main.gold_2023_weekly_violations_day_of_week_heatmap  [RUN]\n",
      "\u001b[0m03:56:35  13 of 19 OK created sql table model main.gold_2023_weekly_violations_day_of_week_heatmap  [\u001b[32mOK\u001b[0m in 0.03s]\n",
      "\u001b[0m03:56:35  14 of 19 START sql table model main.gold_latest_tickets_90_days ................ [RUN]\n",
      "\u001b[0m03:56:35  14 of 19 OK created sql table model main.gold_latest_tickets_90_days ........... [\u001b[32mOK\u001b[0m in 0.03s]\n",
      "\u001b[0m03:56:35  15 of 19 START sql table model main.gold_precinct_ticket_fee_sum_90_days ....... [RUN]\n",
      "\u001b[0m03:56:35  15 of 19 OK created sql table model main.gold_precinct_ticket_fee_sum_90_days .. [\u001b[32mOK\u001b[0m in 0.02s]\n",
      "\u001b[0m03:56:35  16 of 19 START sql table model main.gold_tickets_by_agency_90_days ............. [RUN]\n",
      "\u001b[0m03:56:35  16 of 19 OK created sql table model main.gold_tickets_by_agency_90_days ........ [\u001b[32mOK\u001b[0m in 0.02s]\n",
      "\u001b[0m03:56:35  17 of 19 START sql table model main.gold_tickets_by_county_90_days ............. [RUN]\n",
      "\u001b[0m03:56:35  17 of 19 OK created sql table model main.gold_tickets_by_county_90_days ........ [\u001b[32mOK\u001b[0m in 0.02s]\n",
      "\u001b[0m03:56:35  18 of 19 START sql table model main.gold_tickets_by_vehicle_90_days ............ [RUN]\n",
      "\u001b[0m03:56:35  18 of 19 OK created sql table model main.gold_tickets_by_vehicle_90_days ....... [\u001b[32mOK\u001b[0m in 0.02s]\n",
      "\u001b[0m03:56:35  19 of 19 START sql table model main.gold_tickets_by_violation_90_days .......... [RUN]\n",
      "\u001b[0m03:56:35  19 of 19 OK created sql table model main.gold_tickets_by_violation_90_days ..... [\u001b[32mOK\u001b[0m in 0.02s]\n",
      "\u001b[0m03:56:35  \n",
      "\u001b[0m03:56:35  Finished running 17 table models, 2 view models in 0 hours 0 minutes and 0.96 seconds (0.96s).\n",
      "\u001b[0m03:56:35  \n",
      "\u001b[0m03:56:35  \u001b[32mCompleted successfully\u001b[0m\n",
      "\u001b[0m03:56:35  \n",
      "\u001b[0m03:56:35  Done. PASS=19 WARN=0 ERROR=0 SKIP=0 TOTAL=19\n",
      "\u001b[0m03:56:37  Running with dbt=1.9.4\n",
      "\u001b[0m03:56:37  Registered adapter: duckdb=1.9.3\n",
      "\u001b[0m03:56:37  Found 19 models, 4 data tests, 428 macros\n",
      "\u001b[0m03:56:37  \n",
      "\u001b[0m03:56:37  Concurrency: 1 threads (target='dev')\n",
      "\u001b[0m03:56:37  \n",
      "\u001b[0m03:56:37  Building catalog\n",
      "\u001b[0m03:56:37  Catalog written to /Users/onthemarkdata/repos/github/linkedin-learning-dq-downstream/nyc_parking_violations/target/catalog.json\n"
     ]
    }
   ],
   "source": [
    "# Load dirty data into database and run pipelines\n",
    "duckdb_utils.load_csv_file_to_db('../data/dirty_data')\n",
    "!cd ../nyc_parking_violations && dbt run && dbt docs generate"
   ]
  },
  {
   "cell_type": "markdown",
   "metadata": {},
   "source": [
    "# Generate New Database Docs and Start Local Host Website (dbt)\n",
    "*NOTE: This runs an interactive server in the background. You must end the notebook cell by pressing the stop \"square\" on the top left next to the cell when done.*"
   ]
  },
  {
   "cell_type": "code",
   "execution_count": null,
   "metadata": {},
   "outputs": [],
   "source": [
    "!cd ../nyc_parking_violations && dbt docs serve"
   ]
  },
  {
   "cell_type": "markdown",
   "metadata": {},
   "source": [
    "# Run Data Quality Checks With dbt Tests"
   ]
  },
  {
   "cell_type": "code",
   "execution_count": 105,
   "metadata": {},
   "outputs": [
    {
     "name": "stdout",
     "output_type": "stream",
     "text": [
      "\u001b[0m03:56:43  Running with dbt=1.9.4\n",
      "\u001b[0m03:56:43  Registered adapter: duckdb=1.9.3\n",
      "\u001b[0m03:56:43  Found 19 models, 4 data tests, 428 macros\n",
      "\u001b[0m03:56:43  \n",
      "\u001b[0m03:56:43  Concurrency: 1 threads (target='dev')\n",
      "\u001b[0m03:56:43  \n",
      "\u001b[0m03:56:43  1 of 4 START test test_placeholder ............................................. [RUN]\n",
      "\u001b[0m03:56:43  1 of 4 PASS test_placeholder ................................................... [\u001b[32mPASS\u001b[0m in 0.03s]\n",
      "\u001b[0m03:56:43  2 of 4 START test valid_issuing_agency_values .................................. [RUN]\n",
      "\u001b[0m03:56:43  2 of 4 WARN 5488 valid_issuing_agency_values ................................... [\u001b[33mWARN 5488\u001b[0m in 0.01s]\n",
      "\u001b[0m03:56:43  3 of 4 START test valid_silver_precinct_0_exists ............................... [RUN]\n",
      "\u001b[0m03:56:43  3 of 4 PASS valid_silver_precinct_0_exists ..................................... [\u001b[32mPASS\u001b[0m in 0.01s]\n",
      "\u001b[0m03:56:43  4 of 4 START test valid_violation_county_values ................................ [RUN]\n",
      "\u001b[0m03:56:43  4 of 4 PASS valid_violation_county_values ...................................... [\u001b[32mPASS\u001b[0m in 0.01s]\n",
      "\u001b[0m03:56:43  \n",
      "\u001b[0m03:56:43  Finished running 4 data tests in 0 hours 0 minutes and 0.15 seconds (0.15s).\n",
      "\u001b[0m03:56:43  \n",
      "\u001b[0m03:56:43  \u001b[33mCompleted with 1 warning:\u001b[0m\n",
      "\u001b[0m03:56:43  \n",
      "\u001b[0m03:56:43  \u001b[33mWarning in test valid_issuing_agency_values (tests/valid_issuing_agency_values.sql)\u001b[0m\n",
      "\u001b[0m03:56:43  Got 5488 results, configured to warn if != 0\n",
      "\u001b[0m03:56:43  \n",
      "\u001b[0m03:56:43    compiled code at target/compiled/nyc_parking_violations/tests/valid_issuing_agency_values.sql\n",
      "\u001b[0m03:56:43  \n",
      "\u001b[0m03:56:43    See test failures:\n",
      "  -------------------------------------------------------------------------------------------\n",
      "  select * from \"nyc_parking_violations\".\"main_dbt_test__audit\".\"valid_issuing_agency_values\"\n",
      "  -------------------------------------------------------------------------------------------\n",
      "\u001b[0m03:56:43  \n",
      "\u001b[0m03:56:43  Done. PASS=3 WARN=1 ERROR=0 SKIP=0 TOTAL=4\n"
     ]
    }
   ],
   "source": [
    "!cd ../nyc_parking_violations && dbt test"
   ]
  },
  {
   "cell_type": "markdown",
   "metadata": {},
   "source": [
    "End of functions."
   ]
  }
 ],
 "metadata": {
  "kernelspec": {
   "display_name": ".venv",
   "language": "python",
   "name": "python3"
  },
  "language_info": {
   "codemirror_mode": {
    "name": "ipython",
    "version": 3
   },
   "file_extension": ".py",
   "mimetype": "text/x-python",
   "name": "python",
   "nbconvert_exporter": "python",
   "pygments_lexer": "ipython3",
   "version": "3.13.3"
  },
  "orig_nbformat": 4
 },
 "nbformat": 4,
 "nbformat_minor": 2
}
