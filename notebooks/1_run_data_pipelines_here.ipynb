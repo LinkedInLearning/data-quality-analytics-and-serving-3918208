{
 "cells": [
  {
   "cell_type": "code",
   "execution_count": 6,
   "metadata": {},
   "outputs": [],
   "source": [
    "import sys\n",
    "sys.path.append(\"..\")\n",
    "\n",
    "from scripts.utils import DuckdbUtils\n",
    "\n",
    "duckdb_utils = DuckdbUtils()"
   ]
  },
  {
   "cell_type": "markdown",
   "metadata": {},
   "source": [
    "Load Clean Data Into Database"
   ]
  },
  {
   "cell_type": "code",
   "execution_count": null,
   "metadata": {},
   "outputs": [],
   "source": [
    "# Part 1 - load clean data into database and run pipelines\n",
    "duckdb_utils.load_csv_file_to_db('../data/part_1_clean_data')\n",
    "!cd ../nyc_parking_violations && dbt run && dbt docs generate"
   ]
  },
  {
   "cell_type": "markdown",
   "metadata": {},
   "source": [
    "# Load Dirty Data Into Database"
   ]
  },
  {
   "cell_type": "code",
   "execution_count": null,
   "metadata": {},
   "outputs": [],
   "source": [
    "# Part 2 - load dirty data into database and run pipelines\n",
    "duckdb_utils.load_csv_file_to_db('../data/part_2_dirty_data')\n",
    "!cd ../nyc_parking_violations && dbt run && dbt docs generate"
   ]
  },
  {
   "cell_type": "code",
   "execution_count": 7,
   "metadata": {},
   "outputs": [
    {
     "name": "stdout",
     "output_type": "stream",
     "text": [
      "\u001b[0m00:42:58  Running with dbt=1.9.4\n",
      "\u001b[0m00:42:58  Registered adapter: duckdb=1.9.3\n",
      "\u001b[0m00:42:58  Found 19 models, 4 data tests, 429 macros\n",
      "\u001b[0m00:42:58  \n",
      "\u001b[0m00:42:58  Concurrency: 1 threads (target='dev')\n",
      "\u001b[0m00:42:58  \n",
      "\u001b[0m00:42:58  1 of 19 START sql view model main.bronze_parking_violation_codes ............... [RUN]\n",
      "\u001b[0m00:42:58  1 of 19 OK created sql view model main.bronze_parking_violation_codes .......... [\u001b[32mOK\u001b[0m in 0.04s]\n",
      "\u001b[0m00:42:58  2 of 19 START sql view model main.bronze_parking_violations .................... [RUN]\n",
      "\u001b[0m00:42:58  2 of 19 OK created sql view model main.bronze_parking_violations ............... [\u001b[32mOK\u001b[0m in 0.01s]\n",
      "\u001b[0m00:42:58  3 of 19 START sql table model main.silver_parking_violation_codes .............. [RUN]\n",
      "\u001b[0m00:42:59  3 of 19 OK created sql table model main.silver_parking_violation_codes ......... [\u001b[32mOK\u001b[0m in 0.03s]\n",
      "\u001b[0m00:42:59  4 of 19 START sql table model main.silver_parking_violations ................... [RUN]\n",
      "\u001b[0m00:42:59  4 of 19 OK created sql table model main.silver_parking_violations .............. [\u001b[32mOK\u001b[0m in 0.19s]\n",
      "\u001b[0m00:42:59  5 of 19 START sql table model main.silver_violation_tickets .................... [RUN]\n",
      "\u001b[0m00:42:59  5 of 19 OK created sql table model main.silver_violation_tickets ............... [\u001b[32mOK\u001b[0m in 0.11s]\n",
      "\u001b[0m00:42:59  6 of 19 START sql table model main.silver_violation_vehicles ................... [RUN]\n",
      "\u001b[0m00:42:59  6 of 19 OK created sql table model main.silver_violation_vehicles .............. [\u001b[32mOK\u001b[0m in 0.14s]\n",
      "\u001b[0m00:42:59  7 of 19 START sql table model main.silver_valid_violation_tickets .............. [RUN]\n",
      "\u001b[0m00:42:59  7 of 19 OK created sql table model main.silver_valid_violation_tickets ......... [\u001b[32mOK\u001b[0m in 0.05s]\n",
      "\u001b[0m00:42:59  8 of 19 START sql table model main.gold_2023_agency_fee_metrics ................ [RUN]\n",
      "\u001b[0m00:42:59  8 of 19 OK created sql table model main.gold_2023_agency_fee_metrics ........... [\u001b[32mOK\u001b[0m in 0.02s]\n",
      "\u001b[0m00:42:59  9 of 19 START sql table model main.gold_2023_county_violations_day_of_week_heatmap  [RUN]\n",
      "\u001b[0m00:42:59  9 of 19 OK created sql table model main.gold_2023_county_violations_day_of_week_heatmap  [\u001b[32mOK\u001b[0m in 0.02s]\n",
      "\u001b[0m00:42:59  10 of 19 START sql table model main.gold_2023_ticket_counts_year_month ......... [RUN]\n",
      "\u001b[0m00:42:59  10 of 19 OK created sql table model main.gold_2023_ticket_counts_year_month .... [\u001b[32mOK\u001b[0m in 0.02s]\n",
      "\u001b[0m00:42:59  11 of 19 START sql table model main.gold_2023_ticket_counts_year_week .......... [RUN]\n",
      "\u001b[0m00:42:59  11 of 19 OK created sql table model main.gold_2023_ticket_counts_year_week ..... [\u001b[32mOK\u001b[0m in 0.02s]\n",
      "\u001b[0m00:42:59  12 of 19 START sql table model main.gold_2023_violations_day_of_week_heatmap ... [RUN]\n",
      "\u001b[0m00:42:59  12 of 19 OK created sql table model main.gold_2023_violations_day_of_week_heatmap  [\u001b[32mOK\u001b[0m in 0.02s]\n",
      "\u001b[0m00:42:59  13 of 19 START sql table model main.gold_2023_weekly_violations_day_of_week_heatmap  [RUN]\n",
      "\u001b[0m00:42:59  13 of 19 OK created sql table model main.gold_2023_weekly_violations_day_of_week_heatmap  [\u001b[32mOK\u001b[0m in 0.02s]\n",
      "\u001b[0m00:42:59  14 of 19 START sql table model main.gold_latest_tickets_90_days ................ [RUN]\n",
      "\u001b[0m00:42:59  14 of 19 OK created sql table model main.gold_latest_tickets_90_days ........... [\u001b[32mOK\u001b[0m in 0.03s]\n",
      "\u001b[0m00:42:59  15 of 19 START sql table model main.gold_precinct_ticket_fee_sum_90_days ....... [RUN]\n",
      "\u001b[0m00:42:59  15 of 19 OK created sql table model main.gold_precinct_ticket_fee_sum_90_days .. [\u001b[32mOK\u001b[0m in 0.02s]\n",
      "\u001b[0m00:42:59  16 of 19 START sql table model main.gold_tickets_by_agency_90_days ............. [RUN]\n",
      "\u001b[0m00:42:59  16 of 19 OK created sql table model main.gold_tickets_by_agency_90_days ........ [\u001b[32mOK\u001b[0m in 0.02s]\n",
      "\u001b[0m00:42:59  17 of 19 START sql table model main.gold_tickets_by_county_90_days ............. [RUN]\n",
      "\u001b[0m00:42:59  17 of 19 OK created sql table model main.gold_tickets_by_county_90_days ........ [\u001b[32mOK\u001b[0m in 0.02s]\n",
      "\u001b[0m00:42:59  18 of 19 START sql table model main.gold_tickets_by_vehicle_90_days ............ [RUN]\n",
      "\u001b[0m00:42:59  18 of 19 OK created sql table model main.gold_tickets_by_vehicle_90_days ....... [\u001b[32mOK\u001b[0m in 0.02s]\n",
      "\u001b[0m00:42:59  19 of 19 START sql table model main.gold_tickets_by_violation_90_days .......... [RUN]\n",
      "\u001b[0m00:42:59  19 of 19 OK created sql table model main.gold_tickets_by_violation_90_days ..... [\u001b[32mOK\u001b[0m in 0.02s]\n",
      "\u001b[0m00:42:59  \n",
      "\u001b[0m00:42:59  Finished running 17 table models, 2 view models in 0 hours 0 minutes and 0.91 seconds (0.91s).\n",
      "\u001b[0m00:42:59  \n",
      "\u001b[0m00:42:59  \u001b[32mCompleted successfully\u001b[0m\n",
      "\u001b[0m00:42:59  \n",
      "\u001b[0m00:42:59  Done. PASS=19 WARN=0 ERROR=0 SKIP=0 TOTAL=19\n",
      "\u001b[0m00:43:01  Running with dbt=1.9.4\n",
      "\u001b[0m00:43:01  Registered adapter: duckdb=1.9.3\n",
      "\u001b[0m00:43:01  Found 19 models, 4 data tests, 429 macros\n",
      "\u001b[0m00:43:01  \n",
      "\u001b[0m00:43:01  Concurrency: 1 threads (target='dev')\n",
      "\u001b[0m00:43:01  \n",
      "\u001b[0m00:43:01  Building catalog\n",
      "\u001b[0m00:43:01  Catalog written to /Users/onthemarkdata/repos/github/data-quality-analytics-and-serving-3918208/nyc_parking_violations/target/catalog.json\n"
     ]
    }
   ],
   "source": [
    "# Part 3 - load dirty data into database and run pipelines\n",
    "duckdb_utils.load_csv_file_to_db('../data/part_3_dirty_data')\n",
    "!cd ../nyc_parking_violations && dbt run && dbt docs generate"
   ]
  },
  {
   "cell_type": "code",
   "execution_count": null,
   "metadata": {},
   "outputs": [],
   "source": [
    "# Part 4 - load dirty data into database and run pipelines\n",
    "duckdb_utils.load_csv_file_to_db('../data/part_4_dirty_data')\n",
    "!cd ../nyc_parking_violations && dbt run && dbt docs generate"
   ]
  },
  {
   "cell_type": "markdown",
   "metadata": {},
   "source": [
    "# Generate New Database Docs and Start Local Host Website (dbt)\n",
    "*NOTE: This runs an interactive server in the background. You must end the notebook cell by pressing the stop \"square\" on the top left next to the cell when done.*"
   ]
  },
  {
   "cell_type": "code",
   "execution_count": null,
   "metadata": {},
   "outputs": [],
   "source": [
    "!cd ../nyc_parking_violations && dbt docs serve"
   ]
  },
  {
   "cell_type": "markdown",
   "metadata": {},
   "source": [
    "End of functions."
   ]
  }
 ],
 "metadata": {
  "kernelspec": {
   "display_name": ".venv",
   "language": "python",
   "name": "python3"
  },
  "language_info": {
   "codemirror_mode": {
    "name": "ipython",
    "version": 3
   },
   "file_extension": ".py",
   "mimetype": "text/x-python",
   "name": "python",
   "nbconvert_exporter": "python",
   "pygments_lexer": "ipython3",
   "version": "3.13.3"
  },
  "orig_nbformat": 4
 },
 "nbformat": 4,
 "nbformat_minor": 2
}
